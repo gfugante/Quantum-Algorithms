{
 "cells": [
  {
   "cell_type": "markdown",
   "id": "81e59a7a",
   "metadata": {},
   "source": [
    "# Shor's Algorithm"
   ]
  },
  {
   "cell_type": "markdown",
   "id": "d68127ea",
   "metadata": {},
   "source": [
    "Factoring numbers is classically a very hard problem. This is the reason why the most used crittography systems (RSA and ECC) are based on the complexity of factoring numbers, as e.g 300 digits long numbers take hundreds of thousend of years to factor even for the most powerful classical computer.\n",
    "\n",
    "<br>\n",
    "\n",
    "Shor's algorithm is the quantum algorithm that can factor any number $N$ in less than polynomial time, approximately order $O(log^3N)$. The base idea of the algorithm relies on modular arithmetic, of wich we give an example. $\\\\$Suppose we want to factor the number 21, we have that the key to the solution is to find a number $x$ such that: \n",
    "$$x^2 \\equiv 1 \\space (mod \\space 21)$$\n",
    "In fact if we have for instance $x = 8$, it follows that \n",
    "$$8^2 \\equiv 1 \\space (mod \\space 21)$$\n",
    "$$8^2 - 1^2 \\equiv 0 \\space (mod \\space 21)$$\n",
    "so that:\n",
    "$$(8 - 1)(8 + 1) \\equiv 0 \\space (mod \\space 21)$$\n",
    "Now, $7$ divides $21$, but $9$ doesn't, and this is why we need to take the great common divisor between $21$ and the resuls we get to compute the factorization:\n",
    "$$gcd(21, 7) = 7 \\space \\space \\space gcd(21, 9) = 3$$\n",
    "and we have our factorization.\n",
    "Point is that we need to find a non trivial square root of $1 \\space (mod \\space N)$ (obviously $x=\\pm1$ are trivial). We can do this by picking a random number, let's say $x=2$, for wich we have:\n",
    "$$2^0 \\equiv 1 \\space (mod \\space 21)$$\n",
    "$$2^1 \\equiv 2 \\space (mod \\space 21)$$\n",
    "$$2^2 \\equiv 4 \\space (mod \\space 21)$$\n",
    "$$2^3 \\equiv 8 \\space (mod \\space 21)$$\n",
    "$$\\space\\space2^4 \\equiv 16 \\space (mod \\space 21)$$\n",
    "$$\\space\\space2^5 \\equiv 11 \\space (mod \\space 21)$$\n",
    "$$2^6 \\equiv 1 \\space (mod \\space 21)$$\n",
    "but $2^6 = 8^2$, which is the solution we found above. In general we are looking for an even power of a random number $x$ such that:\n",
    "$$(x^{r/2})^2 \\equiv 1 \\space (mod \\space 21)$$\n",
    "and:\n",
    "$$x^{r/2} \\neq \\pm1 \\space (mod \\space 21)$$\n",
    "In other words, the goal is to find the period $r$ of the table above, for if we can do that we can construct a non trivial square root of 1."
   ]
  },
  {
   "cell_type": "markdown",
   "id": "03bffd01",
   "metadata": {},
   "source": [
    "### Implementation"
   ]
  },
  {
   "cell_type": "markdown",
   "id": "9d99fc99",
   "metadata": {},
   "source": [
    "To implement the proces above we need to find a way to implement a gate $U$ such that:\n",
    "\n",
    "$$ U |x> \\equiv |ax \\space (mod \\space N)> $$\n",
    "\n",
    "so that every state gets multiplied by $a \\space (mod \\space N)$, and for $a = 2 N = 21$:\n",
    "\n",
    "$$ U|1> = |2 \\space (mod \\space 21)> $$\n",
    "$$ U^{2}|1> = |4 \\space (mod \\space 21)> $$\n",
    "$$ \\vdots $$\n",
    "$$ U^r|1> = |1 \\space (mod \\space 21)> $$\n",
    "\n",
    "Now, the linear combination of these states is an eigenstate of $U$. We can then construct a useful eigenstate with different phases:\n",
    "\n",
    "$$ |u_s> = \\frac{1}{\\sqrt{r}} \\sum_{j=0}^{r-1} e^{-\\frac{2\\pi i j s}{r}}|a^j \\space (mod \\space N)> $$\n",
    "\n",
    "so that:\n",
    "\n",
    "$$ U|u_s> = e^{\\frac{2\\pi i s}{r}}|u_s> $$\n",
    "\n",
    "for some $s \\in \\{0, r-1\\}$, producing a different eigenvalue for each eigenstate. We can then apply quantum phase estimation to get the phase $\\frac{s}{r}$. A more detailed explenation of this process can be found at https://arxiv.org/pdf/quant-ph/0205095.pdf, the circuit will look like:"
   ]
  },
  {
   "cell_type": "markdown",
   "id": "65519f6f",
   "metadata": {},
   "source": [
    "![Shor's Algorithm](https://www.researchgate.net/profile/Juha-Vartiainen-2/publication/235574493/figure/fig1/AS:669038392926232@1536522591933/Quantum-circuit-for-Shors-algorithm.png)"
   ]
  },
  {
   "cell_type": "markdown",
   "id": "5ff23feb",
   "metadata": {},
   "source": [
    "### Qiskit"
   ]
  },
  {
   "cell_type": "markdown",
   "id": "fa3aaf94",
   "metadata": {},
   "source": [
    "Qiskit offers an embedded implementation for the circuit, we can run the algorithm as follow:"
   ]
  },
  {
   "cell_type": "code",
   "execution_count": 9,
   "id": "b6fa6aed",
   "metadata": {},
   "outputs": [],
   "source": [
    "from qiskit import IBMQ\n",
    "from qiskit.aqua import QuantumInstance\n",
    "from qiskit.aqua.algorithms import Shor\n",
    "from qiskit.providers.ibmq import least_busy"
   ]
  },
  {
   "cell_type": "code",
   "execution_count": 10,
   "id": "328a99eb",
   "metadata": {
    "collapsed": true
   },
   "outputs": [
    {
     "name": "stderr",
     "output_type": "stream",
     "text": [
      "ibmqfactory.load_account:WARNING:2021-09-04 11:38:10,899: Credentials are already in use. The existing account in the session will be replaced.\n"
     ]
    },
    {
     "data": {
      "text/plain": [
       "<AccountProvider for IBMQ(hub='ibm-q', group='open', project='main')>"
      ]
     },
     "execution_count": 10,
     "metadata": {},
     "output_type": "execute_result"
    }
   ],
   "source": [
    "IBMQ.load_account()"
   ]
  },
  {
   "cell_type": "code",
   "execution_count": 11,
   "id": "e0d1ea63",
   "metadata": {},
   "outputs": [],
   "source": [
    "provider = IBMQ.get_provider(hub='ibm-q')\n",
    "backend = provider.get_backend('ibmq_qasm_simulator')"
   ]
  },
  {
   "cell_type": "code",
   "execution_count": 12,
   "id": "01562f19",
   "metadata": {},
   "outputs": [
    {
     "name": "stdout",
     "output_type": "stream",
     "text": [
      "[[3, 7]]\n"
     ]
    }
   ],
   "source": [
    "factors = Shor(21)\n",
    "\n",
    "result_dict = factors.run(QuantumInstance(backend, shots=1, skip_qobj_validation=False))\n",
    "result = result_dict['factors']\n",
    "\n",
    "print(result)"
   ]
  },
  {
   "cell_type": "code",
   "execution_count": null,
   "id": "fd4d1816",
   "metadata": {},
   "outputs": [],
   "source": []
  }
 ],
 "metadata": {
  "kernelspec": {
   "display_name": "Python 3",
   "language": "python",
   "name": "python3"
  },
  "language_info": {
   "codemirror_mode": {
    "name": "ipython",
    "version": 3
   },
   "file_extension": ".py",
   "mimetype": "text/x-python",
   "name": "python",
   "nbconvert_exporter": "python",
   "pygments_lexer": "ipython3",
   "version": "3.8.8"
  },
  "varInspector": {
   "cols": {
    "lenName": 16,
    "lenType": 16,
    "lenVar": 40
   },
   "kernels_config": {
    "python": {
     "delete_cmd_postfix": "",
     "delete_cmd_prefix": "del ",
     "library": "var_list.py",
     "varRefreshCmd": "print(var_dic_list())"
    },
    "r": {
     "delete_cmd_postfix": ") ",
     "delete_cmd_prefix": "rm(",
     "library": "var_list.r",
     "varRefreshCmd": "cat(var_dic_list()) "
    }
   },
   "types_to_exclude": [
    "module",
    "function",
    "builtin_function_or_method",
    "instance",
    "_Feature"
   ],
   "window_display": false
  }
 },
 "nbformat": 4,
 "nbformat_minor": 5
}
