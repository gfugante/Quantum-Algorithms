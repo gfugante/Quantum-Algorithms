{
 "cells": [
  {
   "cell_type": "markdown",
   "id": "5eff2709",
   "metadata": {},
   "source": [
    "# Simon's Algorithm"
   ]
  },
  {
   "cell_type": "markdown",
   "id": "6596127e",
   "metadata": {},
   "source": [
    "<hr>\n",
    "\n",
    "**Problem:**\n",
    "\n",
    "We are given a function $ f : {\\{0, 1\\}}^n \\rightarrow \\{0, 1\\}^n $ as a black box. We only know that $ f(x) = f(x\\oplus s) $ for sone hidden binary string $s$.\n",
    "\n",
    "Classically, because of the birthday paradox, we can find out the $s$ string in no better than $2^{n/2}$ queries. Question is, can we do better with a qauntum computer? Answer is yes, implementing the Simon's algorithm which solves the problem in polinomial time instead of classical exponential time. It works in four steps:\n",
    "\n",
    "1. Set up the superposition: $ \\frac{1}{\\sqrt{2}} |x> + \\frac{1}{\\sqrt{2}} |x\\oplus s> \\tag{1}$ \n",
    "2. Apply Fourier sampling to get a random $y$ such that: $y\\cdot s \\equiv 0 \\space (mod \\space 2) \\tag{2}$\n",
    "3. Repeat the above process $n-1$ times to get $n-1$ linearly indipendent equations: $ y^{(1)}_{1}s_{1} + \\cdot \\cdot \\cdot + y^{(1)}_{n}s_{n} \\equiv 0 \\space (mod \\space 2) \\\\ \\vdots \\\\ y^{(n-1)}_{1}s_{1} + \\cdot \\cdot \\cdot + y^{(n-1)}_{n}s_{n} \\equiv 0 \\space (mod \\space 2) \\tag{3}$\n",
    "4. Solve for $s$.\n",
    "\n",
    "<hr>"
   ]
  },
  {
   "cell_type": "markdown",
   "id": "ef97d8b1",
   "metadata": {},
   "source": [
    "### 1. Set up the initial superposition"
   ]
  },
  {
   "cell_type": "markdown",
   "id": "832a1960",
   "metadata": {},
   "source": [
    "First of all we need to set up the superposition given by (1). We do it starting with two registers of $n$ qubits, one that will represent $|x>$ and the other $|f(x)>$, both starting in state $|0^{n}>$. \n",
    "$\\\\$ In this example we will use $n=3$ and $s=101$."
   ]
  },
  {
   "cell_type": "code",
   "execution_count": 1,
   "id": "711db24b",
   "metadata": {},
   "outputs": [],
   "source": [
    "n = 3\n",
    "s = '101'"
   ]
  },
  {
   "cell_type": "code",
   "execution_count": 2,
   "id": "43ec8097",
   "metadata": {},
   "outputs": [],
   "source": [
    "from qiskit import QuantumRegister, ClassicalRegister, QuantumCircuit, IBMQ, Aer, transpile, assemble\n",
    "from qiskit.providers.ibmq import least_busy\n",
    "from qiskit.visualization import plot_histogram\n",
    "import matplotlib as mpl\n",
    "from qiskit.tools.monitor import job_monitor\n",
    "from qiskit_textbook.tools import simon_oracle"
   ]
  },
  {
   "cell_type": "code",
   "execution_count": 3,
   "id": "14eb9137",
   "metadata": {},
   "outputs": [],
   "source": [
    "circuit = QuantumCircuit(n*2, n)"
   ]
  },
  {
   "cell_type": "code",
   "execution_count": 4,
   "id": "63b67e7d",
   "metadata": {},
   "outputs": [
    {
     "data": {
      "image/png": "[encoded data removed]",
      "text/plain": [
       "<Figure size 116.697x445.48 with 1 Axes>"
      ]
     },
     "execution_count": 4,
     "metadata": {},
     "output_type": "execute_result"
    }
   ],
   "source": [
    "circuit.draw(output='mpl')"
   ]
  },
  {
   "cell_type": "markdown",
   "id": "efe05f79",
   "metadata": {},
   "source": [
    "The superposition (1) is now created applying the H gate to the first register, then computing $f(x)$ on the second and then measuring it. The logic behind the resulting can be seen with the following example table:\n",
    "\n",
    "| $x$ | $f(x)$| \n",
    "| :-: | :-: |\n",
    "| $000$ | $000$ |\n",
    "| $011$ | $100$ |\n",
    "| $100$ | $010$ |\n",
    "| $101$ | $000$ |\n",
    "| $110$ | $100$ |\n",
    "| $111$ | $001$ |\n",
    "|$\\dots$|$\\dots$|\n",
    "\n",
    "You can see that if we measure e.g. $f(x) = 100$ we know that there are only two possibilities for $x \\space (\\space 011 $ and $ 110 \\space )$, so that the resulting state in the first register will be the equal superposition of these two states.\n",
    "\n",
    "<br> We can also avoid measuring the second register following the deffered measurement principle."
   ]
  },
  {
   "cell_type": "code",
   "execution_count": 5,
   "id": "eceb1171",
   "metadata": {},
   "outputs": [
    {
     "data": {
      "text/plain": [
       "<qiskit.circuit.instructionset.InstructionSet at 0x12b1631c0>"
      ]
     },
     "execution_count": 5,
     "metadata": {},
     "output_type": "execute_result"
    }
   ],
   "source": [
    "circuit.h(range(n))\n",
    "circuit.barrier()"
   ]
  },
  {
   "cell_type": "code",
   "execution_count": 6,
   "id": "2fce8dab",
   "metadata": {},
   "outputs": [
    {
     "data": {
      "image/png": "[encoded data removed]",
      "text/plain": [
       "<Figure size 206.997x445.48 with 1 Axes>"
      ]
     },
     "execution_count": 6,
     "metadata": {},
     "output_type": "execute_result"
    }
   ],
   "source": [
    "circuit.draw(output='mpl')"
   ]
  },
  {
   "cell_type": "code",
   "execution_count": null,
   "id": "47efe833",
   "metadata": {},
   "outputs": [],
   "source": [
    "circuit += simon_oracle(s)\n",
    "\n",
    "circuit.barrier()"
   ]
  },
  {
   "cell_type": "code",
   "execution_count": 8,
   "id": "d79b4b4e",
   "metadata": {},
   "outputs": [
    {
     "data": {
      "image/png": "[encoded data removed]",
      "text/plain": [
       "<Figure size 568.197x445.48 with 1 Axes>"
      ]
     },
     "execution_count": 8,
     "metadata": {},
     "output_type": "execute_result"
    }
   ],
   "source": [
    "circuit.draw(output='mpl')"
   ]
  },
  {
   "cell_type": "markdown",
   "id": "f731501e",
   "metadata": {},
   "source": [
    "### 2. Fourier sampling"
   ]
  },
  {
   "cell_type": "markdown",
   "id": "daa7de61",
   "metadata": {},
   "source": [
    "Now we can apply the H gate again to the first register and the state we get is \n",
    "$\\sum_{y} \\beta_{y} |y>$\n",
    ", where: \n",
    "\n",
    "$$\\beta_{y} = \\frac{1}{\\sqrt{2}} \\left(\\frac{(-1)^{x\\cdot y}}{2^{n/2}} + \\frac{(-1)^{(x\\oplus s)\\cdot y}}{2^{n/2}} \\right) = \\frac{(-1)^{x\\cdot y}}{2^{(n+1)/2}} \\left( 1 + (-1)^{y\\cdot s} \\right)  $$ \n",
    "\n",
    "\n",
    "(the first $\\frac{1}{\\sqrt{2}} $ coming from the normalization of the incoming state). For these amplitudes there are two cases:\n",
    "\n",
    "**Case 1:**<br>\n",
    "$y\\cdot s \\equiv 1 \\space (mod \\space 2)$ so that $\\beta_{y} = 0$ and we can't measure this state.\n",
    "\n",
    "**Case 2:**<br>\n",
    "$y\\cdot s \\equiv 0 \\space (mod \\space 2)$ so that $\\beta_{y} = \\frac{-1}{2^{(n-1)/2}}$ and we measure the state with probability $|\\beta_{y}|^{2} = \\frac{1}{2^{n-1}}$."
   ]
  },
  {
   "cell_type": "code",
   "execution_count": 9,
   "id": "72d18b9f",
   "metadata": {},
   "outputs": [
    {
     "data": {
      "text/plain": [
       "<qiskit.circuit.instructionset.InstructionSet at 0x12b6106a0>"
      ]
     },
     "execution_count": 9,
     "metadata": {},
     "output_type": "execute_result"
    }
   ],
   "source": [
    "circuit.h(range(n))\n",
    "circuit.barrier()"
   ]
  },
  {
   "cell_type": "code",
   "execution_count": 10,
   "id": "a8208f43",
   "metadata": {},
   "outputs": [
    {
     "data": {
      "text/plain": [
       "<qiskit.circuit.instructionset.InstructionSet at 0x12b610280>"
      ]
     },
     "execution_count": 10,
     "metadata": {},
     "output_type": "execute_result"
    }
   ],
   "source": [
    "circuit.measure(range(n), range(n))"
   ]
  },
  {
   "cell_type": "code",
   "execution_count": 11,
   "id": "d2b35820",
   "metadata": {},
   "outputs": [
    {
     "data": {
      "image/png": "[encoded data removed]",
      "text/plain": [
       "<Figure size 869.197x445.48 with 1 Axes>"
      ]
     },
     "execution_count": 11,
     "metadata": {},
     "output_type": "execute_result"
    }
   ],
   "source": [
    "circuit.draw(output='mpl')"
   ]
  },
  {
   "cell_type": "markdown",
   "id": "9e30aeb6",
   "metadata": {},
   "source": [
    "### 3. Repeat n-1 times"
   ]
  },
  {
   "cell_type": "markdown",
   "id": "4fc0acb8",
   "metadata": {},
   "source": [
    "Now we can sample $n-1$ times this process and hopefully get $n-1$ linearly independent equations. In practice is better to simulate more times due to probabilistic outcomes from the QPU. We also ignore the $000$ answer for both $y$ and $s$."
   ]
  },
  {
   "cell_type": "code",
   "execution_count": 12,
   "id": "bfceba25",
   "metadata": {},
   "outputs": [
    {
     "data": {
      "image/png": "[encoded data removed]",
      "text/plain": [
       "<Figure size 504x360 with 1 Axes>"
      ]
     },
     "execution_count": 12,
     "metadata": {},
     "output_type": "execute_result"
    }
   ],
   "source": [
    "aer_sim = Aer.get_backend('aer_simulator')\n",
    "qobj = assemble(circuit, shots=10)\n",
    "results = aer_sim.run(qobj).result()\n",
    "answer = results.get_counts()\n",
    "\n",
    "plot_histogram(answer)"
   ]
  },
  {
   "cell_type": "markdown",
   "id": "3bae31c7",
   "metadata": {},
   "source": [
    "From here we can reconstruct $s$, in fact the system of solutions $\\neq 000$ is linearly independent in the $Z_{2}$ ring. Unfortunately no python package has a solver for modular system like these, but the algorithm can be implemented easily, in fact it follows that:\n",
    "\n",
    "$$ s_3 = 0$$\n",
    "$$ s_1 + s_2 = 0$$\n",
    "\n",
    "but since we are in the congruece class modulo 2, $s_1$ has to be equal to $s_2$, and since we are avoiding the trivial solution we have $s_1 = s_2 = 1$ and $ s = 101$."
   ]
  },
  {
   "cell_type": "code",
   "execution_count": null,
   "id": "c44dee9e",
   "metadata": {},
   "outputs": [],
   "source": []
  }
 ],
 "metadata": {
  "kernelspec": {
   "display_name": "Python 3",
   "language": "python",
   "name": "python3"
  },
  "language_info": {
   "codemirror_mode": {
    "name": "ipython",
    "version": 3
   },
   "file_extension": ".py",
   "mimetype": "text/x-python",
   "name": "python",
   "nbconvert_exporter": "python",
   "pygments_lexer": "ipython3",
   "version": "3.8.8"
  },
  "varInspector": {
   "cols": {
    "lenName": 16,
    "lenType": 16,
    "lenVar": 40
   },
   "kernels_config": {
    "python": {
     "delete_cmd_postfix": "",
     "delete_cmd_prefix": "del ",
     "library": "var_list.py",
     "varRefreshCmd": "print(var_dic_list())"
    },
    "r": {
     "delete_cmd_postfix": ") ",
     "delete_cmd_prefix": "rm(",
     "library": "var_list.r",
     "varRefreshCmd": "cat(var_dic_list()) "
    }
   },
   "types_to_exclude": [
    "module",
    "function",
    "builtin_function_or_method",
    "instance",
    "_Feature"
   ],
   "window_display": false
  }
 },
 "nbformat": 4,
 "nbformat_minor": 5
}
