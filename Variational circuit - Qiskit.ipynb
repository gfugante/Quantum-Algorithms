{
 "cells": [
  {
   "cell_type": "code",
   "execution_count": 1,
   "id": "ec9b9dcc",
   "metadata": {},
   "outputs": [],
   "source": [
    "from qiskit import QuantumRegister, ClassicalRegister, QuantumCircuit, Aer, assemble, execute\n",
    "from qiskit.visualization import plot_histogram\n",
    "import matplotlib as plt\n",
    "import numpy as np\n",
    "import torch\n",
    "from torch.autograd import Variable"
   ]
  },
  {
   "cell_type": "code",
   "execution_count": 2,
   "id": "65e00d8b",
   "metadata": {},
   "outputs": [],
   "source": [
    "# constants for the structure of the circuit\n",
    "number_of_qubits = 1\n",
    "number_of_layers = 2"
   ]
  },
  {
   "cell_type": "code",
   "execution_count": 3,
   "id": "a5697eee",
   "metadata": {},
   "outputs": [],
   "source": [
    "# input and target states initialization\n",
    "\n",
    "#initial_state = [1,0]\n",
    "\n",
    "target_state = [0.,1.]\n",
    "target_state = Variable(\n",
    "    torch.tensor(target_state),\n",
    "    requires_grad=True\n",
    ")"
   ]
  },
  {
   "cell_type": "raw",
   "id": "aa14e0df",
   "metadata": {},
   "source": [
    "params = np.random.normal(0, np.pi, (number_of_qubits, number_of_layers, 3))\n",
    "params = Variable(torch.tensor(params), requires_grad=True)\n",
    "print(params)"
   ]
  },
  {
   "cell_type": "code",
   "execution_count": 4,
   "id": "d06c35cf",
   "metadata": {},
   "outputs": [
    {
     "name": "stdout",
     "output_type": "stream",
     "text": [
      "tensor([[[1., 1., 1.],\n",
      "         [1., 1., 1.]]], dtype=torch.float64, requires_grad=True)\n"
     ]
    }
   ],
   "source": [
    "params = np.ones((number_of_qubits, number_of_layers, 3))\n",
    "params = Variable(torch.tensor(params), requires_grad=True)\n",
    "print(params)"
   ]
  },
  {
   "cell_type": "code",
   "execution_count": 5,
   "id": "500b2d14",
   "metadata": {},
   "outputs": [],
   "source": [
    "# function that creates and runs the circuit with fixed parameters\n",
    "\n",
    "def create_circuit(params_):\n",
    "    \n",
    "    # circuit initialization\n",
    "    qr = QuantumRegister(number_of_qubits)\n",
    "    cr = ClassicalRegister(number_of_qubits)\n",
    "\n",
    "    circuit = QuantumCircuit(qr, cr)\n",
    "\n",
    "    #circuit.initialize(_initial_state)\n",
    "    #circuit.barrier()\n",
    "    \n",
    "    # layers definition\n",
    "    for j in range(number_of_layers):\n",
    "        for i in range(number_of_qubits):\n",
    "            circuit.rx(params_[i, j, 0].item(), i)\n",
    "            circuit.ry(params_[i, j, 1].item(), i)\n",
    "            circuit.rz(params_[i, j, 2].item(), i)\n",
    "            \n",
    "            for k in range(i+1, number_of_qubits):\n",
    "                circuit.cx(i, k)\n",
    "\n",
    "            circuit.barrier()\n",
    "    \n",
    "    \n",
    "    #for i in range(number_of_qubits):\n",
    "        #circuit.measure(i, i)\n",
    "    \n",
    "    circuit.measure(0,0)\n",
    "\n",
    "    return circuit"
   ]
  },
  {
   "cell_type": "code",
   "execution_count": 6,
   "id": "6f7a4151",
   "metadata": {},
   "outputs": [],
   "source": [
    "# function to retrive the uotput state amplitudes\n",
    "\n",
    "def get_amplitudes(circuit_):\n",
    "    \n",
    "    aer_sim = Aer.get_backend('aer_simulator')\n",
    "    qobj = assemble(circuit_, shots=1000)\n",
    "    results = aer_sim.run(qobj).result()\n",
    "    amplitudes = results.data()\n",
    "    \n",
    "    return amplitudes"
   ]
  },
  {
   "cell_type": "code",
   "execution_count": 7,
   "id": "c1cc3890",
   "metadata": {},
   "outputs": [
    {
     "data": {
      "image/png": "[encoded data removed]",
      "text/plain": [
       "<Figure size 628.107x144.48 with 1 Axes>"
      ]
     },
     "execution_count": 7,
     "metadata": {},
     "output_type": "execute_result"
    }
   ],
   "source": [
    "circuit = create_circuit(params)\n",
    "circuit.draw(output='mpl')"
   ]
  },
  {
   "cell_type": "code",
   "execution_count": 8,
   "id": "755b8e9c",
   "metadata": {},
   "outputs": [],
   "source": [
    "# starting with linear cost function, minimize the difference between each amplitude\n",
    "def amplitudes_cost(circuit_):\n",
    "\n",
    "    cost = 0.\n",
    "    amplitudes = list(get_amplitudes(circuit)['counts'].values())\n",
    "    amplitudes = np.array(amplitudes)\n",
    "    amplitudes = amplitudes/np.sqrt(np.sum(amplitudes**2))\n",
    "\n",
    "\n",
    "    for i in range(len(amplitudes)):\n",
    "        cost += torch.abs(amplitudes[i] - torch.abs(target_state[i]))\n",
    "\n",
    "    return cost"
   ]
  },
  {
   "cell_type": "code",
   "execution_count": 9,
   "id": "847e07a5",
   "metadata": {},
   "outputs": [
    {
     "name": "stdout",
     "output_type": "stream",
     "text": [
      "tensor(1.8398, grad_fn=<AddBackward0>)\n",
      "Cost after 0 steps is 0.1500\n",
      "Cost after 1 steps is 0.1274\n",
      "Cost after 2 steps is 0.1647\n",
      "Cost after 3 steps is 0.1573\n",
      "Cost after 4 steps is 0.1414\n",
      "Cost after 5 steps is 0.1677\n",
      "Cost after 6 steps is 0.1302\n",
      "Cost after 7 steps is 0.1302\n",
      "Cost after 8 steps is 0.1414\n",
      "Cost after 9 steps is 0.1515\n",
      "Cost after 10 steps is 0.1400\n",
      "Cost after 11 steps is 1.8412\n",
      "Cost after 12 steps is 0.1400\n",
      "Cost after 13 steps is 1.8442\n",
      "Cost after 14 steps is 0.1233\n",
      "Cost after 15 steps is 0.1486\n",
      "Cost after 16 steps is 0.1573\n",
      "Cost after 17 steps is 0.1632\n",
      "Cost after 18 steps is 0.1617\n",
      "Cost after 19 steps is 0.1588\n",
      "Cost after 20 steps is 0.1515\n",
      "Cost after 21 steps is 1.8529\n",
      "Cost after 22 steps is 1.8670\n",
      "Cost after 23 steps is 0.1602\n",
      "Cost after 24 steps is 1.8338\n",
      "Cost after 25 steps is 0.1558\n",
      "Cost after 26 steps is 0.1632\n",
      "Cost after 27 steps is 0.1588\n",
      "Cost after 28 steps is 0.1179\n",
      "Cost after 29 steps is 1.8248\n",
      "Cost after 30 steps is 0.1457\n",
      "Cost after 31 steps is 0.1220\n",
      "Cost after 32 steps is 0.1558\n",
      "Cost after 33 steps is 0.1443\n",
      "Cost after 34 steps is 0.1386\n",
      "Cost after 35 steps is 0.1372\n",
      "Cost after 36 steps is 0.1558\n",
      "Cost after 37 steps is 0.1414\n",
      "Cost after 38 steps is 0.1707\n",
      "Cost after 39 steps is 0.1302\n",
      "Cost after 40 steps is 0.1588\n",
      "Cost after 41 steps is 0.1828\n",
      "Cost after 42 steps is 1.8500\n",
      "Cost after 43 steps is 0.1544\n",
      "Cost after 44 steps is 0.1372\n",
      "Cost after 45 steps is 0.1414\n",
      "Cost after 46 steps is 0.1677\n",
      "Cost after 47 steps is 0.1274\n",
      "Cost after 48 steps is 0.1529\n",
      "Cost after 49 steps is 0.1443\n",
      "Cost after 50 steps is 0.1573\n",
      "Cost after 51 steps is 1.8368\n",
      "Cost after 52 steps is 0.1330\n",
      "Cost after 53 steps is 0.1797\n",
      "Cost after 54 steps is 0.1602\n",
      "Cost after 55 steps is 1.8600\n",
      "Cost after 56 steps is 0.1813\n",
      "Cost after 57 steps is 0.1813\n",
      "Cost after 58 steps is 0.1677\n",
      "Cost after 59 steps is 0.1828\n",
      "Cost after 60 steps is 1.8398\n",
      "Cost after 61 steps is 0.1677\n",
      "Cost after 62 steps is 0.1937\n",
      "Cost after 63 steps is 0.1288\n",
      "Cost after 64 steps is 0.1288\n",
      "Cost after 65 steps is 1.7757\n",
      "Cost after 66 steps is 0.1372\n",
      "Cost after 67 steps is 0.1400\n",
      "Cost after 68 steps is 0.1632\n",
      "Cost after 69 steps is 0.1429\n",
      "Cost after 70 steps is 0.1529\n",
      "Cost after 71 steps is 0.1414\n",
      "Cost after 72 steps is 0.1662\n",
      "Cost after 73 steps is 0.1752\n",
      "Cost after 74 steps is 0.1457\n",
      "Cost after 75 steps is 0.1588\n",
      "Cost after 76 steps is 0.1358\n",
      "Cost after 77 steps is 0.1372\n",
      "Cost after 78 steps is 0.1632\n",
      "Cost after 79 steps is 0.1692\n",
      "Cost after 80 steps is 0.1573\n",
      "Cost after 81 steps is 0.1302\n",
      "Cost after 82 steps is 0.1859\n",
      "Cost after 83 steps is 0.1602\n",
      "Cost after 84 steps is 0.1414\n",
      "Cost after 85 steps is 0.1844\n",
      "Cost after 86 steps is 0.1588\n",
      "Cost after 87 steps is 0.1443\n",
      "Cost after 88 steps is 0.1722\n",
      "Cost after 89 steps is 0.1429\n",
      "Cost after 90 steps is 0.1529\n",
      "Cost after 91 steps is 0.1647\n",
      "Cost after 92 steps is 0.1500\n",
      "Cost after 93 steps is 0.1274\n",
      "Cost after 94 steps is 1.8500\n",
      "Cost after 95 steps is 0.1529\n",
      "Cost after 96 steps is 1.8383\n",
      "Cost after 97 steps is 0.1192\n",
      "Cost after 98 steps is 0.1529\n",
      "Cost after 99 steps is 0.1457\n",
      "Cost after 100 steps is 1.8670\n",
      "Cost after 101 steps is 0.1558\n",
      "Cost after 102 steps is 0.1515\n",
      "Cost after 103 steps is 0.1602\n",
      "Cost after 104 steps is 0.1152\n",
      "Cost after 105 steps is 0.1617\n",
      "Cost after 106 steps is 0.1515\n",
      "Cost after 107 steps is 0.1707\n",
      "Cost after 108 steps is 0.1767\n",
      "Cost after 109 steps is 0.1515\n",
      "Cost after 110 steps is 0.1782\n",
      "Cost after 111 steps is 0.1429\n",
      "Cost after 112 steps is 1.8670\n",
      "Cost after 113 steps is 0.1737\n",
      "Cost after 114 steps is 0.1500\n",
      "Cost after 115 steps is 0.1588\n",
      "Cost after 116 steps is 0.1515\n",
      "Cost after 117 steps is 1.8456\n",
      "Cost after 118 steps is 0.1515\n",
      "Cost after 119 steps is 0.1457\n",
      "Cost after 120 steps is 0.1617\n",
      "Cost after 121 steps is 0.1500\n",
      "Cost after 122 steps is 0.1544\n",
      "Cost after 123 steps is 0.1782\n",
      "Cost after 124 steps is 1.8485\n",
      "Cost after 125 steps is 0.1647\n",
      "Cost after 126 steps is 0.1797\n",
      "Cost after 127 steps is 0.1372\n",
      "Cost after 128 steps is 1.8094\n",
      "Cost after 129 steps is 0.1602\n",
      "Cost after 130 steps is 0.1457\n",
      "Cost after 131 steps is 0.1429\n",
      "Cost after 132 steps is 0.1813\n",
      "Cost after 133 steps is 0.1471\n",
      "Cost after 134 steps is 0.1457\n",
      "Cost after 135 steps is 0.1500\n",
      "Cost after 136 steps is 0.1647\n",
      "Cost after 137 steps is 0.1358\n",
      "Cost after 138 steps is 1.8712\n",
      "Cost after 139 steps is 0.1573\n",
      "Cost after 140 steps is 0.1288\n",
      "Cost after 141 steps is 0.1429\n",
      "Cost after 142 steps is 0.1677\n",
      "Cost after 143 steps is 0.1602\n",
      "Cost after 144 steps is 0.1400\n",
      "Cost after 145 steps is 0.1429\n",
      "Cost after 146 steps is 0.1797\n",
      "Cost after 147 steps is 0.1288\n",
      "Cost after 148 steps is 0.1692\n",
      "Cost after 149 steps is 0.1515\n",
      "Cost after 150 steps is 1.8308\n",
      "Cost after 151 steps is 0.1558\n",
      "Cost after 152 steps is 0.1692\n",
      "Cost after 153 steps is 0.1602\n",
      "Cost after 154 steps is 0.1443\n",
      "Cost after 155 steps is 0.1500\n",
      "Cost after 156 steps is 0.1937\n",
      "Cost after 157 steps is 0.1288\n",
      "Cost after 158 steps is 0.1617\n",
      "Cost after 159 steps is 0.1677\n",
      "Cost after 160 steps is 0.1529\n",
      "Cost after 161 steps is 0.1344\n",
      "Cost after 162 steps is 1.8338\n",
      "Cost after 163 steps is 0.1400\n",
      "Cost after 164 steps is 0.1707\n",
      "Cost after 165 steps is 0.1443\n",
      "Cost after 166 steps is 0.1486\n",
      "Cost after 167 steps is 0.1544\n",
      "Cost after 168 steps is 0.1330\n",
      "Cost after 169 steps is 1.8368\n",
      "Cost after 170 steps is 0.1443\n",
      "Cost after 171 steps is 0.1558\n",
      "Cost after 172 steps is 0.1358\n",
      "Cost after 173 steps is 0.1288\n",
      "Cost after 174 steps is 1.8412\n",
      "Cost after 175 steps is 0.1457\n",
      "Cost after 176 steps is 1.8293\n",
      "Cost after 177 steps is 0.1302\n",
      "Cost after 178 steps is 0.1828\n",
      "Cost after 179 steps is 0.1692\n",
      "Cost after 180 steps is 0.1647\n",
      "Cost after 181 steps is 0.1330\n",
      "Cost after 182 steps is 0.1471\n",
      "Cost after 183 steps is 0.1602\n",
      "Cost after 184 steps is 0.1677\n",
      "Cost after 185 steps is 0.1602\n",
      "Cost after 186 steps is 0.1647\n",
      "Cost after 187 steps is 0.1662\n",
      "Cost after 188 steps is 0.1471\n",
      "Cost after 189 steps is 0.1737\n",
      "Cost after 190 steps is 0.1602\n",
      "Cost after 191 steps is 0.1692\n",
      "Cost after 192 steps is 0.1443\n",
      "Cost after 193 steps is 0.1358\n",
      "Cost after 194 steps is 0.1471\n",
      "Cost after 195 steps is 0.1274\n",
      "Cost after 196 steps is 0.2016\n",
      "Cost after 197 steps is 0.1544\n",
      "Cost after 198 steps is 0.1722\n",
      "Cost after 199 steps is 0.1330\n",
      "Cost after 200 steps is 0.1813\n",
      "Target vector =  tensor([0., 1.], requires_grad=True)\n",
      "Output vector =  {'counts': {'0x0': 122, '0x1': 878}, 'statevector': array([0.        +0.j        , 0.95954963-0.28153953j])}\n"
     ]
    },
    {
     "data": {
      "image/png": "[encoded data removed]",
      "text/plain": [
       "<Figure size 504x360 with 1 Axes>"
      ]
     },
     "execution_count": 9,
     "metadata": {},
     "output_type": "execute_result"
    }
   ],
   "source": [
    "\n",
    "# set up the optimizer\n",
    "opt = torch.optim.Adam([params], lr=1000)\n",
    "\n",
    "# number of steps in the optimization routine\n",
    "steps = 200\n",
    "\n",
    "# the final stage of optimization isn't always the best, so we keep track of\n",
    "# the best parameters along the way\n",
    "best_cost = amplitudes_cost(create_circuit(params))\n",
    "best_params = np.zeros((number_of_qubits, number_of_layers, 3))\n",
    "\n",
    "print(best_cost)\n",
    "\n",
    "print(\"Cost after 0 steps is {:.4f}\".format(amplitudes_cost(create_circuit(params))))\n",
    "\n",
    "# optimization begins\n",
    "for n in range(steps):\n",
    "    opt.zero_grad()\n",
    "    q_circuit = create_circuit(params)\n",
    "    loss = amplitudes_cost(q_circuit)\n",
    "    loss.backward()\n",
    "    opt.step()\n",
    "\n",
    "    # keeps track of best parameters\n",
    "    if loss < best_cost:\n",
    "        best_cost = loss\n",
    "        best_params = params\n",
    "\n",
    "    # Keep track of progress every 10 steps\n",
    "    #if n % 10 == 9 or n == steps - 1:\n",
    "    print(\"Cost after {} steps is {:.4f}\".format(n + 1, loss))\n",
    "        #print(params)\n",
    "\n",
    "# calculate the Bloch vector of the output state\n",
    "\n",
    "q_circuit = create_circuit(best_params)\n",
    "q_circuit.save_statevector()\n",
    "\n",
    "aer_sim = Aer.get_backend('aer_simulator')\n",
    "qobj = assemble(q_circuit, shots=1000)\n",
    "results = aer_sim.run(qobj).result()\n",
    "output_state = results.data()\n",
    "\n",
    "# print results\n",
    "print(\"Target vector = \", target_state)\n",
    "print(\"Output vector = \", output_state)\n",
    "plot_histogram(results.get_counts())"
   ]
  },
  {
   "cell_type": "code",
   "execution_count": 10,
   "id": "5995ee6a",
   "metadata": {},
   "outputs": [
    {
     "data": {
      "image/png": "[encoded data removed]",
      "text/plain": [
       "<Figure size 714.849x144.48 with 1 Axes>"
      ]
     },
     "execution_count": 10,
     "metadata": {},
     "output_type": "execute_result"
    }
   ],
   "source": [
    "q_circuit.draw(output='mpl')"
   ]
  },
  {
   "cell_type": "code",
   "execution_count": 13,
   "id": "7597a725",
   "metadata": {},
   "outputs": [
    {
     "data": {
      "image/png": "[encoded data removed]",
      "text/plain": [
       "<Figure size 504x360 with 1 Axes>"
      ]
     },
     "execution_count": 13,
     "metadata": {},
     "output_type": "execute_result"
    }
   ],
   "source": [
    "q_circuit.measure_all()\n",
    "\n",
    "aer_sim = Aer.get_backend('aer_simulator')\n",
    "qobj = assemble(q_circuit, shots=1000)\n",
    "results = aer_sim.run(qobj).result()\n",
    "answer = results.get_counts()\n",
    "\n",
    "plot_histogram(answer)"
   ]
  },
  {
   "cell_type": "code",
   "execution_count": 12,
   "id": "3f740494",
   "metadata": {},
   "outputs": [
    {
     "data": {
      "text/plain": [
       "tensor([[[1., 1., 1.],\n",
       "         [1., 1., 1.]]], dtype=torch.float64, requires_grad=True)"
      ]
     },
     "execution_count": 12,
     "metadata": {},
     "output_type": "execute_result"
    }
   ],
   "source": [
    "params"
   ]
  },
  {
   "cell_type": "code",
   "execution_count": null,
   "id": "ac4750c3",
   "metadata": {},
   "outputs": [],
   "source": []
  }
 ],
 "metadata": {
  "kernelspec": {
   "display_name": "Python 3",
   "language": "python",
   "name": "python3"
  },
  "language_info": {
   "codemirror_mode": {
    "name": "ipython",
    "version": 3
   },
   "file_extension": ".py",
   "mimetype": "text/x-python",
   "name": "python",
   "nbconvert_exporter": "python",
   "pygments_lexer": "ipython3",
   "version": "3.8.8"
  },
  "varInspector": {
   "cols": {
    "lenName": 16,
    "lenType": 16,
    "lenVar": 40
   },
   "kernels_config": {
    "python": {
     "delete_cmd_postfix": "",
     "delete_cmd_prefix": "del ",
     "library": "var_list.py",
     "varRefreshCmd": "print(var_dic_list())"
    },
    "r": {
     "delete_cmd_postfix": ") ",
     "delete_cmd_prefix": "rm(",
     "library": "var_list.r",
     "varRefreshCmd": "cat(var_dic_list()) "
    }
   },
   "position": {
    "height": "661px",
    "left": "1055px",
    "right": "20px",
    "top": "119px",
    "width": "205px"
   },
   "types_to_exclude": [
    "module",
    "function",
    "builtin_function_or_method",
    "instance",
    "_Feature"
   ],
   "window_display": false
  }
 },
 "nbformat": 4,
 "nbformat_minor": 5
}
