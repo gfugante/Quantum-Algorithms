{
 "cells": [
  {
   "cell_type": "markdown",
   "id": "1dadc128",
   "metadata": {},
   "source": [
    "# Bernstein-Vazirani Algorithm"
   ]
  },
  {
   "cell_type": "markdown",
   "id": "a9f9b11f",
   "metadata": {},
   "source": [
    "<hr>\n",
    "\n",
    "**Problem:**\n",
    "\n",
    "We are given a function $ f : {\\{0, 1\\}}^n \\rightarrow \\{0, 1\\} $ as a black box. We only know that $ f(x) = s \\cdot x $ for sone hidden binary string $s$, where $ s \\cdot x $ is the bitwise product mod 2.\n",
    "\n",
    "Classically we can find out the $s$ string in $n$ queries. Question is, can we do better with a qauntum computer? Answer is yes, implementing the Bernstein-Vazirani algorithm which is done in these two steps:\n",
    "\n",
    "1. Set up the superposition: $ \\frac{1}{2^{n/2}} \\sum_{x} (-1)^{f(x)} |x> \\tag{1}$ \n",
    "2. Apply Fourier sampling to get $s$ \n",
    "\n",
    "<hr>"
   ]
  },
  {
   "cell_type": "markdown",
   "id": "d28f4acb",
   "metadata": {},
   "source": [
    "### 1. Set up the initial superposition"
   ]
  },
  {
   "cell_type": "markdown",
   "id": "60b1563d",
   "metadata": {},
   "source": [
    "First of all we need to set up the useful superposition given by (1). We do it starting with $n$ qubits in state $|0>$ and one qubit in state $|->$: in this example we will use $n=3$ and $s=101$."
   ]
  },
  {
   "cell_type": "code",
   "execution_count": 1,
   "id": "ad897035",
   "metadata": {},
   "outputs": [],
   "source": [
    "n = 3\n",
    "s = '101'"
   ]
  },
  {
   "cell_type": "code",
   "execution_count": 2,
   "id": "ebc25b48",
   "metadata": {},
   "outputs": [],
   "source": [
    "from qiskit import QuantumRegister, ClassicalRegister, QuantumCircuit, IBMQ, Aer, transpile, assemble\n",
    "from qiskit.providers.ibmq import least_busy\n",
    "from qiskit.visualization import plot_histogram\n",
    "import matplotlib as mpl\n",
    "from qiskit.tools.monitor import job_monitor"
   ]
  },
  {
   "cell_type": "code",
   "execution_count": 3,
   "id": "d1c42419",
   "metadata": {},
   "outputs": [],
   "source": [
    "qr = QuantumRegister(n+1)\n",
    "cr = ClassicalRegister(n)\n",
    "\n",
    "circuit = QuantumCircuit(qr, cr)"
   ]
  },
  {
   "cell_type": "markdown",
   "id": "c7b1a5ae",
   "metadata": {},
   "source": [
    "Set the $n$-th qubit to $|->$ using H and Z gates (or equivalently X and H):"
   ]
  },
  {
   "cell_type": "code",
   "execution_count": 4,
   "id": "77487c62",
   "metadata": {},
   "outputs": [
    {
     "data": {
      "text/plain": [
       "<qiskit.circuit.instructionset.InstructionSet at 0x12a68db20>"
      ]
     },
     "execution_count": 4,
     "metadata": {},
     "output_type": "execute_result"
    }
   ],
   "source": [
    "circuit.h(qr[n])\n",
    "circuit.z(qr[n])"
   ]
  },
  {
   "cell_type": "markdown",
   "id": "e121090d",
   "metadata": {},
   "source": [
    "Apply H gate to each other qubit:"
   ]
  },
  {
   "cell_type": "code",
   "execution_count": 5,
   "id": "d94cc374",
   "metadata": {},
   "outputs": [
    {
     "data": {
      "text/plain": [
       "<qiskit.circuit.instructionset.InstructionSet at 0x12a7ff9a0>"
      ]
     },
     "execution_count": 5,
     "metadata": {},
     "output_type": "execute_result"
    }
   ],
   "source": [
    "for i in range(n):\n",
    "    circuit.h(qr[i])\n",
    "    \n",
    "circuit.barrier()"
   ]
  },
  {
   "cell_type": "code",
   "execution_count": 6,
   "id": "71ac91d3",
   "metadata": {},
   "outputs": [
    {
     "data": {
      "image/png": "[encoded data removed]",
      "text/plain": [
       "<Figure size 280.178x325.08 with 1 Axes>"
      ]
     },
     "execution_count": 6,
     "metadata": {},
     "output_type": "execute_result"
    }
   ],
   "source": [
    "circuit.draw(output='mpl')"
   ]
  },
  {
   "cell_type": "markdown",
   "id": "1dfe060f",
   "metadata": {},
   "source": [
    "We can now compute $f(x)$ applying the $s$ string to the $n$ qubits, than we will have the superposition (1). To do this we just need to toggle the $|->$ qubit eith the $CNOT$ gate, in fact $|->$ pics up a phase of $-1$ only when the corresponding bit in $s$ is $1$, giving:\n",
    "\n",
    "$ \\frac{1}{2^{n/2}} \\sum_{x} |x> |-> \\space \\longrightarrow \\space \\frac{1}{2^{n/2}} \\sum_{x} (-1)^{s\\cdot x} |x> |->  \\tag{2}$"
   ]
  },
  {
   "cell_type": "code",
   "execution_count": 7,
   "id": "8224c1b8",
   "metadata": {},
   "outputs": [
    {
     "data": {
      "text/plain": [
       "<qiskit.circuit.instructionset.InstructionSet at 0x12b3129a0>"
      ]
     },
     "execution_count": 7,
     "metadata": {},
     "output_type": "execute_result"
    }
   ],
   "source": [
    "s = s[::-1] # s in reverse order with respect to qiskit notation\n",
    "for i in range(n):\n",
    "    if s[i] != '0':\n",
    "        circuit.cx(qr[i], n)  \n",
    "        \n",
    "circuit.barrier()"
   ]
  },
  {
   "cell_type": "code",
   "execution_count": 8,
   "id": "08c822fd",
   "metadata": {},
   "outputs": [
    {
     "data": {
      "image/png": "[encoded data removed]",
      "text/plain": [
       "<Figure size 460.778x325.08 with 1 Axes>"
      ]
     },
     "execution_count": 8,
     "metadata": {},
     "output_type": "execute_result"
    }
   ],
   "source": [
    "circuit.draw(output='mpl')"
   ]
  },
  {
   "cell_type": "markdown",
   "id": "0ea33da6",
   "metadata": {},
   "source": [
    "### 2. Fourier sampling"
   ]
  },
  {
   "cell_type": "markdown",
   "id": "0d304f07",
   "metadata": {},
   "source": [
    "Now applying the H gate and measure the first $n$ qubits we can retrive $s$, in fact using eq. (2) we get:\n",
    "\n",
    "$ \\frac{1}{2^{n/2}} \\sum_{x} (-1)^{s\\cdot x} |x> \\space \\longrightarrow \\space \\frac{1}{2^{n}} \\sum_{x,y} (-1)^{f(x) + x\\cdot y} |y>        \\tag{3}$\n",
    "\n",
    "where the only non-null amplitude is exactly the state $|s>$, given that the amplitudes are:\n",
    "\n",
    "$ \\frac{1}{2^{n}} \\sum_{x} (-1)^{x\\cdot s + x\\cdot y} = \\frac{1}{2^{n}} \\sum_{x} (-1)^{x\\cdot (s \\oplus y)}     \\tag{4}$\n",
    "\n",
    "where the last eqation equals 1 if $s = y$ and 0 otherwise."
   ]
  },
  {
   "cell_type": "code",
   "execution_count": 9,
   "id": "0682378e",
   "metadata": {},
   "outputs": [],
   "source": [
    "for i in range(n):\n",
    "    circuit.h(qr[i])\n",
    "\n",
    "for i in range(n):\n",
    "    circuit.measure(qr[i], cr[i])"
   ]
  },
  {
   "cell_type": "code",
   "execution_count": 10,
   "id": "d60002a2",
   "metadata": {},
   "outputs": [
    {
     "data": {
      "image/png": "[encoded data removed]",
      "text/plain": [
       "<Figure size 701.578x325.08 with 1 Axes>"
      ]
     },
     "execution_count": 10,
     "metadata": {},
     "output_type": "execute_result"
    }
   ],
   "source": [
    "circuit.draw(output='mpl')"
   ]
  },
  {
   "cell_type": "markdown",
   "id": "76d03289",
   "metadata": {},
   "source": [
    "## Simulations"
   ]
  },
  {
   "cell_type": "markdown",
   "id": "0a08f5ba",
   "metadata": {},
   "source": [
    "First we will run the circuit on the local Aer simulator:"
   ]
  },
  {
   "cell_type": "code",
   "execution_count": 11,
   "id": "ed6e5079",
   "metadata": {},
   "outputs": [
    {
     "data": {
      "image/png": "[encoded data removed]",
      "text/plain": [
       "<Figure size 504x360 with 1 Axes>"
      ]
     },
     "execution_count": 11,
     "metadata": {},
     "output_type": "execute_result"
    }
   ],
   "source": [
    "aer_sim = Aer.get_backend('aer_simulator')\n",
    "qobj = assemble(circuit)\n",
    "results = aer_sim.run(qobj).result()\n",
    "answer = results.get_counts()\n",
    "\n",
    "plot_histogram(answer)"
   ]
  },
  {
   "cell_type": "code",
   "execution_count": 12,
   "id": "27f08f1a",
   "metadata": {},
   "outputs": [
    {
     "data": {
      "text/plain": [
       "Result(backend_name='aer_simulator', backend_version='0.8.2', qobj_id='58c4098e-9ba2-4c8c-9b91-6a7a0952fa2a', job_id='8b6fa1e0-cf4d-421a-a764-863cccfe94b8', success=True, results=[ExperimentResult(shots=1024, success=True, meas_level=2, data=ExperimentResultData(counts={'0x5': 1024}), header=QobjExperimentHeader(clbit_labels=[['c0', 0], ['c0', 1], ['c0', 2]], creg_sizes=[['c0', 3]], global_phase=0.0, memory_slots=3, metadata=None, n_qubits=4, name='circuit-0', qreg_sizes=[['q0', 4]], qubit_labels=[['q0', 0], ['q0', 1], ['q0', 2], ['q0', 3]]), status=DONE, seed_simulator=584546585, metadata={'parallel_state_update': 4, 'parallel_shots': 1, 'measure_sampling': True, 'device': 'CPU', 'method': 'stabilizer', 'fusion': {'enabled': False}}, time_taken=0.006818500000000001)], date=2021-09-14T17:40:47.005928, status=COMPLETED, metadata={'mpi_rank': 0, 'time_taken': 0.007187118, 'max_gpu_memory_mb': 0, 'max_memory_mb': 8192, 'parallel_experiments': 1, 'num_mpi_processes': 1, 'omp_enabled': True}, time_taken=0.007740974426269531)"
      ]
     },
     "execution_count": 12,
     "metadata": {},
     "output_type": "execute_result"
    }
   ],
   "source": [
    "results"
   ]
  },
  {
   "cell_type": "markdown",
   "id": "c765d172",
   "metadata": {},
   "source": [
    "We can then run it on a real quantum computer:"
   ]
  },
  {
   "cell_type": "code",
   "execution_count": 13,
   "id": "ce68a489",
   "metadata": {},
   "outputs": [
    {
     "name": "stdout",
     "output_type": "stream",
     "text": [
      "least busy backend:  ibmq_lima\n"
     ]
    }
   ],
   "source": [
    "IBMQ.load_account()\n",
    "provider = IBMQ.get_provider(hub='ibm-q')\n",
    "provider.backends()\n",
    "backend = least_busy(provider.backends(filters=lambda x: x.configuration().n_qubits <= 5 and\n",
    "                                   x.configuration().n_qubits >= 2 and\n",
    "                                   not x.configuration().simulator and x.status().operational==True))\n",
    "print(\"least busy backend: \", backend)"
   ]
  },
  {
   "cell_type": "code",
   "execution_count": 14,
   "id": "82bfbad1",
   "metadata": {},
   "outputs": [
    {
     "name": "stdout",
     "output_type": "stream",
     "text": [
      "Job Status: job has successfully run\n"
     ]
    }
   ],
   "source": [
    "transpiled_circuit = transpile(circuit, backend)\n",
    "job = backend.run(transpiled_circuit, shots=1024)\n",
    "\n",
    "job_monitor(job, interval=2)"
   ]
  },
  {
   "cell_type": "code",
   "execution_count": 15,
   "id": "b9de27e2",
   "metadata": {},
   "outputs": [
    {
     "data": {
      "image/png": "[encoded data removed]",
      "text/plain": [
       "<Figure size 504x360 with 1 Axes>"
      ]
     },
     "execution_count": 15,
     "metadata": {},
     "output_type": "execute_result"
    }
   ],
   "source": [
    "results = job.result()\n",
    "answer = results.get_counts()\n",
    "\n",
    "plot_histogram(answer)"
   ]
  },
  {
   "cell_type": "markdown",
   "id": "0d34beb2",
   "metadata": {},
   "source": [
    "Note that the circuit would give the same reults even without barriers."
   ]
  },
  {
   "cell_type": "code",
   "execution_count": null,
   "id": "5fdc3b8e",
   "metadata": {},
   "outputs": [],
   "source": []
  }
 ],
 "metadata": {
  "kernelspec": {
   "display_name": "Python 3",
   "language": "python",
   "name": "python3"
  },
  "language_info": {
   "codemirror_mode": {
    "name": "ipython",
    "version": 3
   },
   "file_extension": ".py",
   "mimetype": "text/x-python",
   "name": "python",
   "nbconvert_exporter": "python",
   "pygments_lexer": "ipython3",
   "version": "3.8.8"
  },
  "varInspector": {
   "cols": {
    "lenName": 16,
    "lenType": 16,
    "lenVar": 40
   },
   "kernels_config": {
    "python": {
     "delete_cmd_postfix": "",
     "delete_cmd_prefix": "del ",
     "library": "var_list.py",
     "varRefreshCmd": "print(var_dic_list())"
    },
    "r": {
     "delete_cmd_postfix": ") ",
     "delete_cmd_prefix": "rm(",
     "library": "var_list.r",
     "varRefreshCmd": "cat(var_dic_list()) "
    }
   },
   "types_to_exclude": [
    "module",
    "function",
    "builtin_function_or_method",
    "instance",
    "_Feature"
   ],
   "window_display": false
  }
 },
 "nbformat": 4,
 "nbformat_minor": 5
}
